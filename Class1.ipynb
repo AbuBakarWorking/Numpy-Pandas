{
 "cells": [
  {
   "cell_type": "markdown",
   "id": "e49d10c2-35aa-4e20-a60b-a3797aa20cc7",
   "metadata": {},
   "source": [
    "# Class 1: Basics and Array Manipulation\n",
    "## 1. What is NumPy? NumPy (Numerical Python) is a library in Python used for working with arrays (like lists but faster and more efficient). It is essential for data analysis, data engineering, and machine learning because it can handle  large datasets and perform calculations quickly."
   ]
  },
  {
   "cell_type": "markdown",
   "id": "7a8ba1c0",
   "metadata": {},
   "source": []
  },
  {
   "cell_type": "markdown",
   "id": "f0cb502f-f504-46d8-9e95-5979e6dbe9f1",
   "metadata": {},
   "source": [
    "# 2. Installing and Importing NumPy\n",
    "## To install NumPy, run this in your terminal or command prompt"
   ]
  },
  {
   "cell_type": "code",
   "execution_count": 1,
   "id": "72f3bbc6-f3b8-495a-8c64-75c37bf187a9",
   "metadata": {},
   "outputs": [],
   "source": [
    "# pip install numpy"
   ]
  },
  {
   "cell_type": "markdown",
   "id": "e4582a5b-2e3d-4820-b24b-1c5b0e7ccd56",
   "metadata": {},
   "source": [
    "## Import Numpy in your code like this"
   ]
  },
  {
   "cell_type": "code",
   "execution_count": 2,
   "id": "66a15502-845b-4952-97ce-ce206b0e8f79",
   "metadata": {},
   "outputs": [],
   "source": [
    "import numpy as np"
   ]
  },
  {
   "cell_type": "markdown",
   "id": "24c3684d-8fa3-46a7-b5bc-6f4bd4783a0a",
   "metadata": {},
   "source": [
    "## We use np as a short name for NumPy.\n",
    "# 3. Creating Arrays\n",
    "## Arrays are like lists, but better for mathematical operations. Here's how to create them:\n",
    "\n"
   ]
  },
  {
   "cell_type": "markdown",
   "id": "5ebaadef-cb6e-41e4-afd9-4baa432ab65b",
   "metadata": {},
   "source": [
    "# 1D Array (one row):\n",
    "## What They Represent:\n",
    "### A 1D array is like a simple list. It is used to store a sequence of values (e.g., a list of numbers or a single column of data)."
   ]
  },
  {
   "cell_type": "markdown",
   "id": "1ef73e54-5fa7-4dc6-9b1a-2fcabdfb5c2c",
   "metadata": {},
   "source": [
    "## Data storage for single variables:\n",
    "\n",
    "## Example: Store the age of people in a dataset."
   ]
  },
  {
   "cell_type": "code",
   "execution_count": 3,
   "id": "0bd2ac91-9b43-41fb-b9eb-248a5280c8f7",
   "metadata": {},
   "outputs": [
    {
     "name": "stdout",
     "output_type": "stream",
     "text": [
      "[25 30 35 40]\n"
     ]
    }
   ],
   "source": [
    "ages = np.array([25, 30, 35, 40])\n",
    "print(ages)\n"
   ]
  },
  {
   "cell_type": "code",
   "execution_count": 4,
   "id": "5dd9ff97-df41-4cdd-b0e4-af398006cc6e",
   "metadata": {},
   "outputs": [
    {
     "name": "stdout",
     "output_type": "stream",
     "text": [
      "[1 2 3 4 5]\n"
     ]
    }
   ],
   "source": [
    "arr = np.array([1, 2, 3, 4, 5])\n",
    "print(arr)  "
   ]
  },
  {
   "cell_type": "markdown",
   "id": "94353e49-b956-4c1b-bc2d-dc7f1723f2d6",
   "metadata": {},
   "source": [
    "# 2D Array (rows and columns):\n",
    "## What They Represent:\n",
    "## A 2D array is like a table or matrix with rows and columns. It’s used to store structured data, such as a dataset with multiple features or attributes."
   ]
  },
  {
   "cell_type": "markdown",
   "id": "1da924e8-1bfb-4640-9cb2-b72ca6c92796",
   "metadata": {},
   "source": [
    "## Use Cases:\n",
    "## Storing tabular data:\n",
    "\n",
    "### Example: A dataset with rows as samples and columns as features."
   ]
  },
  {
   "cell_type": "code",
   "execution_count": 5,
   "id": "62395dff-8ec3-4852-96a1-36cee8deaa2f",
   "metadata": {},
   "outputs": [
    {
     "name": "stdout",
     "output_type": "stream",
     "text": [
      "[[ 25 180  75]\n",
      " [ 30 175  70]\n",
      " [ 35 165  60]]\n"
     ]
    }
   ],
   "source": [
    "data = np.array([[25, 180, 75],  # Age, Height(cm), Weight(kg)\n",
    "                [30, 175, 70],\n",
    "                [35, 165, 60]])\n",
    "# Define the model\n",
    "print(data)"
   ]
  },
  {
   "cell_type": "markdown",
   "id": "044ad9a7-1492-45e8-8b21-6274d9579357",
   "metadata": {},
   "source": [
    "## Matrix operations:\n",
    "\n",
    "### Used for calculations in linear algebra (e.g., dot product, matrix multiplication)."
   ]
  },
  {
   "cell_type": "code",
   "execution_count": 6,
   "id": "04f2247a-b42f-4ea8-8a08-91b6c8eb8096",
   "metadata": {},
   "outputs": [
    {
     "name": "stdout",
     "output_type": "stream",
     "text": [
      "[[19 22]\n",
      " [43 50]]\n"
     ]
    }
   ],
   "source": [
    "A = np.array([[1, 2], [3, 4]])\n",
    "B = np.array([[5, 6], [7, 8]])\n",
    "result = np.dot(A, B)\n",
    "print(result)"
   ]
  },
  {
   "cell_type": "code",
   "execution_count": 7,
   "id": "d20375e7-d3e6-4c6e-8e13-bac261bc2e62",
   "metadata": {},
   "outputs": [
    {
     "name": "stdout",
     "output_type": "stream",
     "text": [
      "[[1 2 3]\n",
      " [4 5 6]]\n"
     ]
    }
   ],
   "source": [
    "arr = np.array([[1, 2, 3], [4, 5, 6]])\n",
    "print(arr)"
   ]
  },
  {
   "cell_type": "markdown",
   "id": "796695b2-b8d2-42b9-a448-5affbbefc98f",
   "metadata": {},
   "source": [
    "# 3D Array (multiple 2D arrays):\n",
    "## What They Represent:\n",
    "### A 3D array is like a stack of 2D arrays or a cube of data. It is used to store datasets with more than two dimensions, such as sequences of images or multi-channel data."
   ]
  },
  {
   "cell_type": "markdown",
   "id": "162e2b9a-d4a2-4bfd-9f6d-076cefb5688a",
   "metadata": {},
   "source": [
    "## Use Cases:\n",
    "## RGB Images (Colored Images):\n",
    "\n",
    "### A 3D array can represent an image with height, width, and color channels (Red, Green, Blue)."
   ]
  },
  {
   "cell_type": "code",
   "execution_count": 8,
   "id": "24ffe20a-7e56-441a-8f16-3355e0728cfa",
   "metadata": {},
   "outputs": [],
   "source": [
    "rgb_image = np.array([[[255, 0, 0],  # Red pixel\n",
    "                        [0, 255, 0],  # Green pixel\n",
    "                        [0, 0, 255]],  # Blue pixel\n",
    "                        [[255, 255, 0],  # Yellow pixel\n",
    "                        [255, 0, 255],  # Magenta pixel\n",
    "                        [0, 255, 255]]])  # Cyan pixel"
   ]
  },
  {
   "cell_type": "code",
   "execution_count": 9,
   "id": "12bdf8f5-526b-407b-9a76-7e6ad51fff8b",
   "metadata": {},
   "outputs": [
    {
     "name": "stdout",
     "output_type": "stream",
     "text": [
      "[[[1 2]\n",
      "  [3 4]]\n",
      "\n",
      " [[5 6]\n",
      "  [7 8]]]\n"
     ]
    }
   ],
   "source": [
    "arr = np.array([[[1, 2], [3, 4]], [[5, 6], [7, 8]]])\n",
    "print(arr)"
   ]
  },
  {
   "cell_type": "markdown",
   "id": "ebd9e05a-c012-4021-aca8-f9d4ec6a289f",
   "metadata": {},
   "source": [
    "# Create Numpy with Random Numbers\n"
   ]
  },
  {
   "cell_type": "markdown",
   "id": "dbe07733-1f16-4574-9e12-d0e7639387be",
   "metadata": {},
   "source": [
    "# 1. Random rand()\n",
    "###  Purpose: Generates random numbers between 0 and 1 (inclusive of 0, but not 1).\n",
    "###  Distribution: Uniform distribution (all values in the range are equally likely).\n",
    "###  Input: You can specify the shape of the array."
   ]
  },
  {
   "cell_type": "markdown",
   "id": "2a59047f-56d7-45a7-93a5-f2b7ccec4277",
   "metadata": {},
   "source": [
    "## Syntax"
   ]
  },
  {
   "cell_type": "code",
   "execution_count": 10,
   "id": "60f7063e-3c70-4738-a817-fe8c0be034fa",
   "metadata": {},
   "outputs": [],
   "source": [
    "# np.random.rand(d0, d1, ..., dn)"
   ]
  },
  {
   "cell_type": "markdown",
   "id": "27e9f965",
   "metadata": {},
   "source": [
    "## Generate a single random number:"
   ]
  },
  {
   "cell_type": "code",
   "execution_count": 11,
   "id": "5303ce05-ab72-4c13-be3a-65df9654a684",
   "metadata": {},
   "outputs": [
    {
     "name": "stdout",
     "output_type": "stream",
     "text": [
      "[0.80308952 0.58012729 0.57142517 0.54045785]\n"
     ]
    }
   ],
   "source": [
    "import numpy as np\n",
    "\n",
    "var = np.random.rand(4)\n",
    "print(var)"
   ]
  },
  {
   "cell_type": "markdown",
   "id": "09148772",
   "metadata": {},
   "source": [
    "## Generate a 2D random number:"
   ]
  },
  {
   "cell_type": "code",
   "execution_count": 12,
   "id": "e2e1a42f-0c1d-46ef-b227-afdf2f3fdebc",
   "metadata": {},
   "outputs": [
    {
     "name": "stdout",
     "output_type": "stream",
     "text": [
      "[[0.82558963 0.9163352  0.20496278]\n",
      " [0.06954524 0.38883543 0.16804827]]\n",
      "\n",
      "Type of array is <class 'numpy.ndarray'>\n"
     ]
    }
   ],
   "source": [
    "\n",
    "var1 = np.random.rand(2,3)\n",
    "print(var1)\n",
    "\n",
    "print(\"\\nType of array is\",type(var1))\n"
   ]
  },
  {
   "cell_type": "markdown",
   "id": "46c21e0a",
   "metadata": {},
   "source": [
    "## Generate a 3D array of random numbers:"
   ]
  },
  {
   "cell_type": "code",
   "execution_count": 25,
   "id": "0f8efd44",
   "metadata": {},
   "outputs": [
    {
     "name": "stdout",
     "output_type": "stream",
     "text": [
      "Generated 3D Array:\n",
      "[[[0.62691321 0.32938871 0.0576767  0.61040777]\n",
      "  [0.15579809 0.45646524 0.77744207 0.49521167]\n",
      "  [0.21539721 0.69075378 0.78054449 0.17590746]]\n",
      "\n",
      " [[0.83930652 0.10116475 0.89948019 0.35175851]\n",
      "  [0.96276789 0.53987191 0.1055533  0.26988539]\n",
      "  [0.43788355 0.74836473 0.2360733  0.51441882]]]\n"
     ]
    }
   ],
   "source": [
    "\n",
    "# Create a 3D array with random values between 0 and 1\n",
    "random_array_3d = np.random.rand(2, 3, 4)\n",
    "\n",
    "print(\"Generated 3D Array:\")\n",
    "print(random_array_3d)\n"
   ]
  },
  {
   "cell_type": "markdown",
   "id": "8129434c",
   "metadata": {},
   "source": [
    "## The array contains:\n",
    "- 2 layers\n",
    "- Each layer has 3 rows\n",
    "- Each row has 4 columns"
   ]
  },
  {
   "cell_type": "markdown",
   "id": "a84cf32f-70e2-48e9-95c0-56b699e40451",
   "metadata": {},
   "source": [
    "# 2. randn\n",
    "## Purpose: Generates random numbers that can be (positive or negative), centered around 0.\n",
    "\n",
    "## Distribution: Standard normal distribution (bell curve) with mean 0 and standard deviation 1.\n",
    "\n",
    "## Input: You can specify the shape of the array.\n"
   ]
  },
  {
   "cell_type": "markdown",
   "id": "444283d8-1a33-4469-83e4-1afcd800702a",
   "metadata": {},
   "source": [
    "## Syntax"
   ]
  },
  {
   "cell_type": "code",
   "execution_count": 14,
   "id": "8384f427-b012-4cc5-832a-79f78eb47b3f",
   "metadata": {},
   "outputs": [],
   "source": [
    "# np.random.randn(d0, d1, ..., dn)"
   ]
  },
  {
   "cell_type": "markdown",
   "id": "bfcefc43",
   "metadata": {},
   "source": [
    "## Generate a single random number:"
   ]
  },
  {
   "cell_type": "code",
   "execution_count": 31,
   "id": "58ea0cd6",
   "metadata": {},
   "outputs": [
    {
     "name": "stdout",
     "output_type": "stream",
     "text": [
      "-0.23323573141688864\n"
     ]
    }
   ],
   "source": [
    "\n",
    "random_number = np.random.randn()\n",
    "print(random_number)\n"
   ]
  },
  {
   "cell_type": "markdown",
   "id": "64d5dce5",
   "metadata": {},
   "source": [
    "## Generate a 1D array of random numbers:"
   ]
  },
  {
   "cell_type": "code",
   "execution_count": 52,
   "id": "0eb16191",
   "metadata": {},
   "outputs": [
    {
     "name": "stdout",
     "output_type": "stream",
     "text": [
      "[ 1.10812203  2.26322888  1.56085133 -0.34293297  0.4675059 ]\n"
     ]
    }
   ],
   "source": [
    "random_array_1d = np.random.randn(5)  # Generates a 1D array with 5 elements\n",
    "print(random_array_1d)"
   ]
  },
  {
   "cell_type": "markdown",
   "id": "fc478486",
   "metadata": {},
   "source": [
    "## Generate a 2D array of random numbers:"
   ]
  },
  {
   "cell_type": "code",
   "execution_count": 17,
   "id": "e90466d5",
   "metadata": {},
   "outputs": [
    {
     "name": "stdout",
     "output_type": "stream",
     "text": [
      "[[-0.01781877  1.38543623 -0.34292798 -0.66414045]\n",
      " [ 0.89846532 -0.03767833 -1.15057091  1.91569651]\n",
      " [-0.34283384  0.76056084  0.1775333  -1.34599254]]\n"
     ]
    }
   ],
   "source": [
    "\n",
    "random_array_2d = np.random.randn(3, 4)  # Generates a 3x4 2D array\n",
    "print(random_array_2d)\n"
   ]
  },
  {
   "cell_type": "markdown",
   "id": "94f725ce",
   "metadata": {},
   "source": [
    "## Generate a 3D array of random numbers:"
   ]
  },
  {
   "cell_type": "code",
   "execution_count": 18,
   "id": "80a69596",
   "metadata": {},
   "outputs": [
    {
     "name": "stdout",
     "output_type": "stream",
     "text": [
      "[[[ 0.21168362  1.76708124  2.20746739  1.99344246]\n",
      "  [-0.40149609  0.05795859  0.81015033  0.22083588]\n",
      "  [ 0.72625523 -0.67151828  1.28996205  0.41069516]]\n",
      "\n",
      " [[-2.10612156  0.10238971 -0.85837358 -0.67378235]\n",
      "  [ 0.36508325  0.34235346 -0.48149224  0.0833184 ]\n",
      "  [-0.20459806  1.23079857  0.02166554  0.47307987]]]\n"
     ]
    }
   ],
   "source": [
    "\n",
    "random_array_3d = np.random.randn(2, 3, 4)  # Generates a 2x3x4 3D array\n",
    "print(random_array_3d)\n"
   ]
  },
  {
   "cell_type": "markdown",
   "id": "fe2b7a2e-a2e3-42b8-8667-45de64ea47e3",
   "metadata": {},
   "source": [
    "# 3. ranf\n",
    "## Purpose: Generates random numbers between 0 and 1 (like rand), but the shape must be handled separately.\n",
    "## Distribution: Uniform distribution.\n",
    "## Difference from rand: ranf does not directly accept shape as arguments; instead, use reshaping if needed."
   ]
  },
  {
   "cell_type": "markdown",
   "id": "252645d8",
   "metadata": {},
   "source": [
    "## Syntax"
   ]
  },
  {
   "cell_type": "code",
   "execution_count": 19,
   "id": "2acd38a4-247d-4d9e-b838-b7346389bc4a",
   "metadata": {},
   "outputs": [
    {
     "data": {
      "text/plain": [
       "0.8753232399708811"
      ]
     },
     "execution_count": 19,
     "metadata": {},
     "output_type": "execute_result"
    }
   ],
   "source": [
    "np.random.random(size=None) or np.random.ranf(size=None)"
   ]
  },
  {
   "cell_type": "code",
   "execution_count": 20,
   "id": "eb797196-703b-4bf4-848b-c503205640e2",
   "metadata": {},
   "outputs": [
    {
     "name": "stdout",
     "output_type": "stream",
     "text": [
      "[0.47639198 0.86919448 0.67000822]\n"
     ]
    }
   ],
   "source": [
    "var3 = np.random.ranf(3)\n",
    "print(var3)"
   ]
  },
  {
   "cell_type": "markdown",
   "id": "80cf9231-c880-497f-bb6b-a52131b830c2",
   "metadata": {},
   "source": [
    "## Through a TypeError because of positional argument means here order matter's"
   ]
  },
  {
   "cell_type": "code",
   "execution_count": 21,
   "id": "780e5324-4adb-4661-9719-cdbe495518b2",
   "metadata": {},
   "outputs": [
    {
     "ename": "TypeError",
     "evalue": "random_sample() takes at most 1 positional argument (2 given)",
     "output_type": "error",
     "traceback": [
      "\u001b[1;31m---------------------------------------------------------------------------\u001b[0m",
      "\u001b[1;31mTypeError\u001b[0m                                 Traceback (most recent call last)",
      "Cell \u001b[1;32mIn[21], line 1\u001b[0m\n\u001b[1;32m----> 1\u001b[0m var4 \u001b[38;5;241m=\u001b[39m \u001b[43mnp\u001b[49m\u001b[38;5;241;43m.\u001b[39;49m\u001b[43mrandom\u001b[49m\u001b[38;5;241;43m.\u001b[39;49m\u001b[43mranf\u001b[49m\u001b[43m(\u001b[49m\u001b[38;5;241;43m2\u001b[39;49m\u001b[43m,\u001b[49m\u001b[38;5;241;43m3\u001b[39;49m\u001b[43m)\u001b[49m\n\u001b[0;32m      2\u001b[0m \u001b[38;5;28mprint\u001b[39m(var4)\n",
      "File \u001b[1;32mnumpy\\\\random\\\\mtrand.pyx:4879\u001b[0m, in \u001b[0;36mnumpy.random.mtrand.ranf\u001b[1;34m()\u001b[0m\n",
      "File \u001b[1;32mnumpy\\\\random\\\\mtrand.pyx:385\u001b[0m, in \u001b[0;36mnumpy.random.mtrand.RandomState.random_sample\u001b[1;34m()\u001b[0m\n",
      "\u001b[1;31mTypeError\u001b[0m: random_sample() takes at most 1 positional argument (2 given)"
     ]
    }
   ],
   "source": [
    "var4 = np.random.ranf(2,3)\n",
    "print(var4)"
   ]
  },
  {
   "cell_type": "code",
   "execution_count": 53,
   "id": "a2e5435f-3f34-4adb-b89e-f3fbea21910a",
   "metadata": {},
   "outputs": [
    {
     "name": "stdout",
     "output_type": "stream",
     "text": [
      "[0.18355365 0.49344318 0.50913641 0.56890542 0.88886933 0.39053961]\n",
      "[[0.41676985 0.53670487 0.73566442]\n",
      " [0.00982842 0.56446567 0.26386891]]\n"
     ]
    }
   ],
   "source": [
    "# Here's order matter\n",
    "var5 = np.random.ranf(6)\n",
    "print(var5)\n",
    "\n",
    "\n",
    "\n",
    "var5 = np.random.ranf(6).reshape(2,3)\n",
    "print(var5)\n"
   ]
  },
  {
   "cell_type": "markdown",
   "id": "4045812a-1bd0-461f-aed4-75622f86d9cb",
   "metadata": {},
   "source": [
    "# 4. randint\n",
    "## Range: Specify low (inclusive) and high (exclusive).\n",
    "## Purpose: Generates random integer numbers within a specified range.\n",
    "## Input: You can also specify the size (shape) of the array."
   ]
  },
  {
   "cell_type": "markdown",
   "id": "adfc50e1-7471-44aa-a66e-fd7781dfa12c",
   "metadata": {},
   "source": [
    "## Syntax"
   ]
  },
  {
   "cell_type": "code",
   "execution_count": null,
   "id": "d450f2a4-fd4f-47f7-8226-e3ca744fe2f8",
   "metadata": {},
   "outputs": [],
   "source": [
    "# np.random.randint(low, high=None, size=None, dtype=int)\n",
    "\n",
    "# or\n",
    "\n",
    "# np.random.randint(min, max,total_values)"
   ]
  },
  {
   "cell_type": "code",
   "execution_count": 22,
   "id": "1bcaf352-4a05-4ef0-a73f-92c8cf9c48fa",
   "metadata": {},
   "outputs": [
    {
     "name": "stdout",
     "output_type": "stream",
     "text": [
      "[[8 8 7 9]\n",
      " [8 9 9 5]\n",
      " [8 6 6 6]]\n"
     ]
    }
   ],
   "source": [
    "var6 = np.random.randint(5, 10, size=(3, 4))  # Generate random integers in range [5, 10) with shape 3x4\n",
    "print(var6) "
   ]
  },
  {
   "cell_type": "code",
   "execution_count": 23,
   "id": "861901e4-ff92-456b-b42e-cc13b06a9a7b",
   "metadata": {},
   "outputs": [
    {
     "name": "stdout",
     "output_type": "stream",
     "text": [
      "[16  9 12  8 14]\n"
     ]
    }
   ],
   "source": [
    "var0 = np.random.randint(5,20,5)\n",
    "print(var0)"
   ]
  },
  {
   "cell_type": "code",
   "execution_count": 24,
   "id": "7d8aedb8-48f9-4c7b-b751-8b0b35b210e2",
   "metadata": {},
   "outputs": [
    {
     "name": "stdout",
     "output_type": "stream",
     "text": [
      "6\n"
     ]
    }
   ],
   "source": [
    "var7 = np.random.randint(5,8)\n",
    "print(var7)"
   ]
  },
  {
   "cell_type": "markdown",
   "id": "b8717c8c-cc5e-4723-b5cc-3c04b7860dbf",
   "metadata": {},
   "source": [
    "# Array Attributes\n",
    "## You can inspect the properties of an array:\n",
    "\n",
    "# Shape:\n",
    "## Tells you how many rows and columns the array has."
   ]
  },
  {
   "cell_type": "code",
   "execution_count": 8,
   "id": "d42939bf-0c2c-4161-b9d2-8cfab4f2b131",
   "metadata": {},
   "outputs": [
    {
     "name": "stdout",
     "output_type": "stream",
     "text": [
      "(2, 3)\n"
     ]
    }
   ],
   "source": [
    "arr = np.array([[1, 2, 3], [4, 5, 6]])\n",
    "print(arr.shape)  # Output: (2,3)"
   ]
  },
  {
   "cell_type": "markdown",
   "id": "8300150b-ab18-47cb-a2f9-631d53c41b75",
   "metadata": {},
   "source": [
    "# Data Type:\n",
    "## Shows the type of data in the array (e.g., integers, floats)."
   ]
  },
  {
   "cell_type": "code",
   "execution_count": 9,
   "id": "59c17718-b0b7-468c-9b3d-59ee882eb9e1",
   "metadata": {},
   "outputs": [
    {
     "name": "stdout",
     "output_type": "stream",
     "text": [
      "int32\n"
     ]
    }
   ],
   "source": [
    "print(arr.dtype)"
   ]
  },
  {
   "cell_type": "markdown",
   "id": "992727c6-a959-44e4-941b-7746a0a406c1",
   "metadata": {},
   "source": [
    "# Data Type:\n",
    "## Shows the type of data in the array (e.g., integers, floats)."
   ]
  },
  {
   "cell_type": "code",
   "execution_count": 10,
   "id": "18e4b68f-05c6-46ee-a6ca-2436c50428cd",
   "metadata": {},
   "outputs": [
    {
     "name": "stdout",
     "output_type": "stream",
     "text": [
      "2\n"
     ]
    }
   ],
   "source": [
    "print(arr.ndim) # (for 2D array)"
   ]
  },
  {
   "cell_type": "markdown",
   "id": "77944d7c-b895-480b-9edb-b7aa7d0980cf",
   "metadata": {},
   "source": [
    "# Size:\n",
    "\n",
    "## Tells how many total elements are in the array."
   ]
  },
  {
   "cell_type": "code",
   "execution_count": 11,
   "id": "7d04cc03-d59e-42ae-966d-916730352b76",
   "metadata": {},
   "outputs": [
    {
     "name": "stdout",
     "output_type": "stream",
     "text": [
      "6\n"
     ]
    }
   ],
   "source": [
    "print(arr.size)  "
   ]
  },
  {
   "cell_type": "markdown",
   "id": "16882ee9-56ac-4aeb-bd96-8bfd509bf432",
   "metadata": {},
   "source": [
    "## NUMPY: Shape"
   ]
  },
  {
   "cell_type": "code",
   "execution_count": 12,
   "id": "76020ca7-5c2b-4359-b205-02ca4c93f246",
   "metadata": {},
   "outputs": [
    {
     "name": "stdout",
     "output_type": "stream",
     "text": [
      "Var: [[1 2 3 4]\n",
      " [5 6 7 8]]\n",
      "\n",
      "Shape of var is: (2, 4)\n"
     ]
    }
   ],
   "source": [
    "import numpy as np\n",
    "\n",
    "var = np.array([[1,2,3,4],[5,6,7,8]])\n",
    "print(\"Var:\",var)\n",
    "\n",
    "print(\"\\nShape of var is:\",var.shape)\n",
    "\n"
   ]
  },
  {
   "cell_type": "code",
   "execution_count": 13,
   "id": "abc1d603-421d-47bc-991e-ef0598efc80b",
   "metadata": {},
   "outputs": [
    {
     "name": "stdout",
     "output_type": "stream",
     "text": [
      "[[[[9 8 7 6]]]]\n",
      "4\n",
      "\n",
      "Shape of var is: (1, 1, 1, 4)\n"
     ]
    }
   ],
   "source": [
    "var1 = np.array([9,8,7,6], ndmin=4)\n",
    "print(var1)\n",
    "print(var1.ndim)\n",
    "\n",
    "print(\"\\nShape of var is:\",var1.shape)"
   ]
  },
  {
   "cell_type": "markdown",
   "id": "d94bd87d-e546-44ae-bd26-97d817af326d",
   "metadata": {},
   "source": [
    "# Reshape\n",
    "### using reshape() function converting 1D Array to 2D Array or can also do in others"
   ]
  },
  {
   "cell_type": "code",
   "execution_count": 14,
   "id": "edddc963-6a02-478c-bcf4-a88f2d175daf",
   "metadata": {},
   "outputs": [
    {
     "name": "stdout",
     "output_type": "stream",
     "text": [
      "One Dimension Array: [1 2 3 4 5 6]\n",
      "\n",
      "Array of 2 by 3\n",
      " [[1 2 3]\n",
      " [4 5 6]]\n",
      "\n",
      "Array of 3 by 2\n",
      " [[1 2]\n",
      " [3 4]\n",
      " [5 6]]\n"
     ]
    }
   ],
   "source": [
    "var2 = np.array([1,2,3,4,5,6])\n",
    "\n",
    "print(\"One Dimension Array:\",var2)\n",
    "\n",
    "x = var2.reshape(2,3)\n",
    "print(\"\\nArray of 2 by 3\\n\",x)\n",
    "\n",
    "y = var2.reshape(3,2)\n",
    "print(\"\\nArray of 3 by 2\\n\",y)\n"
   ]
  },
  {
   "cell_type": "markdown",
   "id": "88036d31-6989-4833-8087-c5626054b4cd",
   "metadata": {},
   "source": [
    "## Checking Dimensions"
   ]
  },
  {
   "cell_type": "code",
   "execution_count": 15,
   "id": "f6835b34-deda-461f-a60f-176aabcfa707",
   "metadata": {},
   "outputs": [
    {
     "name": "stdout",
     "output_type": "stream",
     "text": [
      "Dimension of var2: 1\n",
      "Dimension of x: 2\n",
      "Dimension of y: 2\n"
     ]
    }
   ],
   "source": [
    "print(\"Dimension of var2:\",var2.ndim)\n",
    "\n",
    "print(\"Dimension of x:\",x.ndim)\n",
    "\n",
    "print(\"Dimension of y:\",y.ndim)"
   ]
  },
  {
   "cell_type": "markdown",
   "id": "8ed8947f-604b-4b7c-98f1-86bdc57b3834",
   "metadata": {},
   "source": [
    "## Converting Array to 1D Array"
   ]
  },
  {
   "cell_type": "code",
   "execution_count": 16,
   "id": "e04c5983-7c29-42dd-9b54-d46ae19e4657",
   "metadata": {},
   "outputs": [
    {
     "name": "stdout",
     "output_type": "stream",
     "text": [
      "[1 2 3 4 5 6]\n"
     ]
    }
   ],
   "source": [
    "z = y.reshape(-1)\n",
    "print(z)"
   ]
  }
 ],
 "metadata": {
  "kernelspec": {
   "display_name": "base",
   "language": "python",
   "name": "python3"
  },
  "language_info": {
   "codemirror_mode": {
    "name": "ipython",
    "version": 3
   },
   "file_extension": ".py",
   "mimetype": "text/x-python",
   "name": "python",
   "nbconvert_exporter": "python",
   "pygments_lexer": "ipython3",
   "version": "3.12.4"
  }
 },
 "nbformat": 4,
 "nbformat_minor": 5
}
